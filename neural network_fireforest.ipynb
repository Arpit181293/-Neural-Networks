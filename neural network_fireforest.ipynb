{
 "cells": [
  {
   "cell_type": "markdown",
   "metadata": {},
   "source": [
    "# Objective:-We want to predict the fire area using the Neural network classification "
   ]
  },
  {
   "cell_type": "code",
   "execution_count": 1,
   "metadata": {},
   "outputs": [
    {
     "name": "stdout",
     "output_type": "stream",
     "text": [
      "Requirement already satisfied: tensorflow in c:\\users\\hp\\anaconda3\\lib\\site-packages (2.4.1)\n",
      "Requirement already satisfied: gast==0.3.3 in c:\\users\\hp\\anaconda3\\lib\\site-packages (from tensorflow) (0.3.3)\n",
      "Requirement already satisfied: tensorflow-estimator<2.5.0,>=2.4.0 in c:\\users\\hp\\anaconda3\\lib\\site-packages (from tensorflow) (2.4.0)\n",
      "Requirement already satisfied: six~=1.15.0 in c:\\users\\hp\\anaconda3\\lib\\site-packages (from tensorflow) (1.15.0)\n",
      "Requirement already satisfied: h5py~=2.10.0 in c:\\users\\hp\\anaconda3\\lib\\site-packages (from tensorflow) (2.10.0)\n",
      "Requirement already satisfied: wrapt~=1.12.1 in c:\\users\\hp\\anaconda3\\lib\\site-packages (from tensorflow) (1.12.1)\n",
      "Requirement already satisfied: google-pasta~=0.2 in c:\\users\\hp\\anaconda3\\lib\\site-packages (from tensorflow) (0.2.0)\n",
      "Requirement already satisfied: opt-einsum~=3.3.0 in c:\\users\\hp\\anaconda3\\lib\\site-packages (from tensorflow) (3.3.0)\n",
      "Requirement already satisfied: protobuf>=3.9.2 in c:\\users\\hp\\anaconda3\\lib\\site-packages (from tensorflow) (3.14.0)\n",
      "Requirement already satisfied: grpcio~=1.32.0 in c:\\users\\hp\\anaconda3\\lib\\site-packages (from tensorflow) (1.32.0)\n",
      "Requirement already satisfied: wheel~=0.35 in c:\\users\\hp\\anaconda3\\lib\\site-packages (from tensorflow) (0.35.1)\n",
      "Requirement already satisfied: keras-preprocessing~=1.1.2 in c:\\users\\hp\\anaconda3\\lib\\site-packages (from tensorflow) (1.1.2)\n",
      "Requirement already satisfied: numpy~=1.19.2 in c:\\users\\hp\\anaconda3\\lib\\site-packages (from tensorflow) (1.19.2)\n",
      "Requirement already satisfied: astunparse~=1.6.3 in c:\\users\\hp\\anaconda3\\lib\\site-packages (from tensorflow) (1.6.3)\n",
      "Requirement already satisfied: flatbuffers~=1.12.0 in c:\\users\\hp\\anaconda3\\lib\\site-packages (from tensorflow) (1.12)\n",
      "Requirement already satisfied: termcolor~=1.1.0 in c:\\users\\hp\\anaconda3\\lib\\site-packages (from tensorflow) (1.1.0)\n",
      "Requirement already satisfied: tensorboard~=2.4 in c:\\users\\hp\\anaconda3\\lib\\site-packages (from tensorflow) (2.4.1)\n",
      "Requirement already satisfied: typing-extensions~=3.7.4 in c:\\users\\hp\\anaconda3\\lib\\site-packages (from tensorflow) (3.7.4.3)\n",
      "Requirement already satisfied: absl-py~=0.10 in c:\\users\\hp\\anaconda3\\lib\\site-packages (from tensorflow) (0.12.0)\n",
      "Requirement already satisfied: setuptools>=41.0.0 in c:\\users\\hp\\anaconda3\\lib\\site-packages (from tensorboard~=2.4->tensorflow) (50.3.1.post20201107)\n",
      "Requirement already satisfied: google-auth-oauthlib<0.5,>=0.4.1 in c:\\users\\hp\\anaconda3\\lib\\site-packages (from tensorboard~=2.4->tensorflow) (0.4.3)\n",
      "Requirement already satisfied: werkzeug>=0.11.15 in c:\\users\\hp\\anaconda3\\lib\\site-packages (from tensorboard~=2.4->tensorflow) (1.0.1)\n",
      "Requirement already satisfied: tensorboard-plugin-wit>=1.6.0 in c:\\users\\hp\\anaconda3\\lib\\site-packages (from tensorboard~=2.4->tensorflow) (1.8.0)\n",
      "Requirement already satisfied: google-auth<2,>=1.6.3 in c:\\users\\hp\\anaconda3\\lib\\site-packages (from tensorboard~=2.4->tensorflow) (1.28.0)\n",
      "Requirement already satisfied: markdown>=2.6.8 in c:\\users\\hp\\anaconda3\\lib\\site-packages (from tensorboard~=2.4->tensorflow) (3.3.4)\n",
      "Requirement already satisfied: requests<3,>=2.21.0 in c:\\users\\hp\\anaconda3\\lib\\site-packages (from tensorboard~=2.4->tensorflow) (2.24.0)\n",
      "Requirement already satisfied: requests-oauthlib>=0.7.0 in c:\\users\\hp\\anaconda3\\lib\\site-packages (from google-auth-oauthlib<0.5,>=0.4.1->tensorboard~=2.4->tensorflow) (1.3.0)\n",
      "Requirement already satisfied: cachetools<5.0,>=2.0.0 in c:\\users\\hp\\anaconda3\\lib\\site-packages (from google-auth<2,>=1.6.3->tensorboard~=2.4->tensorflow) (4.2.0)\n",
      "Requirement already satisfied: pyasn1-modules>=0.2.1 in c:\\users\\hp\\anaconda3\\lib\\site-packages (from google-auth<2,>=1.6.3->tensorboard~=2.4->tensorflow) (0.2.8)\n",
      "Requirement already satisfied: rsa<5,>=3.1.4; python_version >= \"3.6\" in c:\\users\\hp\\anaconda3\\lib\\site-packages (from google-auth<2,>=1.6.3->tensorboard~=2.4->tensorflow) (4.7.2)\n",
      "Requirement already satisfied: idna<3,>=2.5 in c:\\users\\hp\\anaconda3\\lib\\site-packages (from requests<3,>=2.21.0->tensorboard~=2.4->tensorflow) (2.10)\n",
      "Requirement already satisfied: chardet<4,>=3.0.2 in c:\\users\\hp\\anaconda3\\lib\\site-packages (from requests<3,>=2.21.0->tensorboard~=2.4->tensorflow) (3.0.4)\n",
      "Requirement already satisfied: urllib3!=1.25.0,!=1.25.1,<1.26,>=1.21.1 in c:\\users\\hp\\anaconda3\\lib\\site-packages (from requests<3,>=2.21.0->tensorboard~=2.4->tensorflow) (1.25.11)\n",
      "Requirement already satisfied: certifi>=2017.4.17 in c:\\users\\hp\\anaconda3\\lib\\site-packages (from requests<3,>=2.21.0->tensorboard~=2.4->tensorflow) (2020.6.20)\n",
      "Requirement already satisfied: oauthlib>=3.0.0 in c:\\users\\hp\\anaconda3\\lib\\site-packages (from requests-oauthlib>=0.7.0->google-auth-oauthlib<0.5,>=0.4.1->tensorboard~=2.4->tensorflow) (3.1.0)\n",
      "Requirement already satisfied: pyasn1<0.5.0,>=0.4.6 in c:\\users\\hp\\anaconda3\\lib\\site-packages (from pyasn1-modules>=0.2.1->google-auth<2,>=1.6.3->tensorboard~=2.4->tensorflow) (0.4.8)\n"
     ]
    }
   ],
   "source": [
    "!pip install tensorflow\n",
    "\n",
    "import pandas as pd\n",
    "\n",
    "from sklearn.metrics import accuracy_score, confusion_matrix\n",
    "from sklearn.model_selection import train_test_split, cross_val_score\n",
    "\n",
    "# Create your first MLP in Keras\n",
    "from keras.models import Sequential\n",
    "from keras.layers import Dense\n",
    "import numpy\n",
    "import matplotlib.pyplot as plt"
   ]
  },
  {
   "cell_type": "code",
   "execution_count": 2,
   "metadata": {},
   "outputs": [],
   "source": [
    "data=pd.read_csv(\"C:\\\\Users\\\\hp\\\\Desktop\\\\arpit_assignment\\\\assignment\\\\13. Neural Networks\\\\forestfires.csv\")"
   ]
  },
  {
   "cell_type": "code",
   "execution_count": 3,
   "metadata": {},
   "outputs": [],
   "source": [
    "# Coverting the size_category into the integers\n",
    "data.size_category.replace((\"small\",\"large\"),(0,1),inplace=True)"
   ]
  },
  {
   "cell_type": "code",
   "execution_count": 4,
   "metadata": {},
   "outputs": [],
   "source": [
    "x=data[['FFMC', 'DMC', 'DC', 'ISI', 'temp', 'RH', 'wind',\n",
    "       'rain', 'area', 'dayfri', 'daymon', 'daysat', 'daysun', 'daythu',\n",
    "       'daytue', 'daywed', 'monthapr', 'monthaug', 'monthdec', 'monthfeb',\n",
    "       'monthjan', 'monthjul', 'monthjun', 'monthmar', 'monthmay', 'monthnov',\n",
    "       'monthoct', 'monthsep']].values\n",
    "y=data.size_category.values"
   ]
  },
  {
   "cell_type": "code",
   "execution_count": 5,
   "metadata": {},
   "outputs": [],
   "source": [
    "from sklearn.model_selection import train_test_split\n",
    "X_train, X_test, y_train, y_test = train_test_split(x, y, test_size = 0.20)"
   ]
  },
  {
   "cell_type": "code",
   "execution_count": 6,
   "metadata": {},
   "outputs": [],
   "source": [
    "# create model\n",
    "model = Sequential()\n",
    "model.add(Dense(42, input_shape=(28,), activation = 'relu'))\n",
    "model.add(Dense(28, activation='relu'))\n",
    "model.add(Dense(1, activation='sigmoid'))\n",
    "\n"
   ]
  },
  {
   "cell_type": "code",
   "execution_count": 7,
   "metadata": {},
   "outputs": [],
   "source": [
    "# Compile model\n",
    "model.compile(loss='binary_crossentropy', optimizer='adam', metrics=['accuracy'])"
   ]
  },
  {
   "cell_type": "code",
   "execution_count": 8,
   "metadata": {},
   "outputs": [
    {
     "name": "stdout",
     "output_type": "stream",
     "text": [
      "Epoch 1/180\n",
      "28/28 [==============================] - 2s 66ms/step - loss: 24.4488 - accuracy: 0.4370 - val_loss: 5.9690 - val_accuracy: 0.7518\n",
      "Epoch 2/180\n",
      "28/28 [==============================] - 0s 3ms/step - loss: 4.7358 - accuracy: 0.6033 - val_loss: 2.8533 - val_accuracy: 0.7372\n",
      "Epoch 3/180\n",
      "28/28 [==============================] - 0s 3ms/step - loss: 2.4468 - accuracy: 0.6604 - val_loss: 0.7230 - val_accuracy: 0.7591\n",
      "Epoch 4/180\n",
      "28/28 [==============================] - 0s 3ms/step - loss: 0.9203 - accuracy: 0.6717 - val_loss: 0.5471 - val_accuracy: 0.8029\n",
      "Epoch 5/180\n",
      "28/28 [==============================] - 0s 9ms/step - loss: 0.7956 - accuracy: 0.7575 - val_loss: 0.5948 - val_accuracy: 0.8175\n",
      "Epoch 6/180\n",
      "28/28 [==============================] - 0s 3ms/step - loss: 0.7066 - accuracy: 0.7401 - val_loss: 0.5789 - val_accuracy: 0.6934\n",
      "Epoch 7/180\n",
      "28/28 [==============================] - 0s 3ms/step - loss: 0.6241 - accuracy: 0.7595 - val_loss: 0.3498 - val_accuracy: 0.8467\n",
      "Epoch 8/180\n",
      "28/28 [==============================] - 0s 3ms/step - loss: 0.4786 - accuracy: 0.8287 - val_loss: 0.3274 - val_accuracy: 0.8832\n",
      "Epoch 9/180\n",
      "28/28 [==============================] - 0s 4ms/step - loss: 0.5795 - accuracy: 0.7993 - val_loss: 0.3688 - val_accuracy: 0.8394\n",
      "Epoch 10/180\n",
      "28/28 [==============================] - 0s 3ms/step - loss: 0.5227 - accuracy: 0.7710 - val_loss: 0.3175 - val_accuracy: 0.8540\n",
      "Epoch 11/180\n",
      "28/28 [==============================] - 0s 3ms/step - loss: 0.5407 - accuracy: 0.8383 - val_loss: 0.2651 - val_accuracy: 0.9197\n",
      "Epoch 12/180\n",
      "28/28 [==============================] - 0s 3ms/step - loss: 0.2824 - accuracy: 0.9062 - val_loss: 0.3111 - val_accuracy: 0.8905\n",
      "Epoch 13/180\n",
      "28/28 [==============================] - 0s 3ms/step - loss: 0.2881 - accuracy: 0.8924 - val_loss: 0.3068 - val_accuracy: 0.8686\n",
      "Epoch 14/180\n",
      "28/28 [==============================] - 0s 3ms/step - loss: 0.3739 - accuracy: 0.8598 - val_loss: 0.2321 - val_accuracy: 0.9051\n",
      "Epoch 15/180\n",
      "28/28 [==============================] - 0s 3ms/step - loss: 0.3596 - accuracy: 0.8580 - val_loss: 0.5502 - val_accuracy: 0.6277\n",
      "Epoch 16/180\n",
      "28/28 [==============================] - 0s 3ms/step - loss: 0.3245 - accuracy: 0.8588 - val_loss: 0.2363 - val_accuracy: 0.8978\n",
      "Epoch 17/180\n",
      "28/28 [==============================] - 0s 4ms/step - loss: 0.1837 - accuracy: 0.9312 - val_loss: 0.2639 - val_accuracy: 0.8905\n",
      "Epoch 18/180\n",
      "28/28 [==============================] - 0s 3ms/step - loss: 0.1961 - accuracy: 0.9305 - val_loss: 0.1829 - val_accuracy: 0.9270\n",
      "Epoch 19/180\n",
      "28/28 [==============================] - 0s 5ms/step - loss: 0.2245 - accuracy: 0.9189 - val_loss: 0.2173 - val_accuracy: 0.8978\n",
      "Epoch 20/180\n",
      "28/28 [==============================] - 0s 3ms/step - loss: 0.1877 - accuracy: 0.9320 - val_loss: 0.1789 - val_accuracy: 0.9197\n",
      "Epoch 21/180\n",
      "28/28 [==============================] - 0s 3ms/step - loss: 0.1697 - accuracy: 0.9218 - val_loss: 0.1705 - val_accuracy: 0.9270\n",
      "Epoch 22/180\n",
      "28/28 [==============================] - 0s 3ms/step - loss: 0.2173 - accuracy: 0.9138 - val_loss: 0.1737 - val_accuracy: 0.9197\n",
      "Epoch 23/180\n",
      "28/28 [==============================] - 0s 3ms/step - loss: 0.1448 - accuracy: 0.9395 - val_loss: 0.1758 - val_accuracy: 0.9197\n",
      "Epoch 24/180\n",
      "28/28 [==============================] - 0s 3ms/step - loss: 0.1871 - accuracy: 0.9513 - val_loss: 0.3271 - val_accuracy: 0.8905\n",
      "Epoch 25/180\n",
      "28/28 [==============================] - 0s 3ms/step - loss: 0.3310 - accuracy: 0.9022 - val_loss: 0.1414 - val_accuracy: 0.9416\n",
      "Epoch 26/180\n",
      "28/28 [==============================] - 0s 3ms/step - loss: 0.1811 - accuracy: 0.9435 - val_loss: 0.1437 - val_accuracy: 0.9270\n",
      "Epoch 27/180\n",
      "28/28 [==============================] - 0s 3ms/step - loss: 0.2025 - accuracy: 0.9162 - val_loss: 0.1557 - val_accuracy: 0.9708\n",
      "Epoch 28/180\n",
      "28/28 [==============================] - 0s 3ms/step - loss: 0.1502 - accuracy: 0.9383 - val_loss: 0.1965 - val_accuracy: 0.9562\n",
      "Epoch 29/180\n",
      "28/28 [==============================] - 0s 3ms/step - loss: 0.1753 - accuracy: 0.9196 - val_loss: 0.1721 - val_accuracy: 0.9270\n",
      "Epoch 30/180\n",
      "28/28 [==============================] - 0s 4ms/step - loss: 0.2070 - accuracy: 0.9047 - val_loss: 0.1307 - val_accuracy: 0.9270\n",
      "Epoch 31/180\n",
      "28/28 [==============================] - 0s 4ms/step - loss: 0.0940 - accuracy: 0.9637 - val_loss: 0.1424 - val_accuracy: 0.9197\n",
      "Epoch 32/180\n",
      "28/28 [==============================] - 0s 3ms/step - loss: 0.1846 - accuracy: 0.9128 - val_loss: 0.3169 - val_accuracy: 0.8905\n",
      "Epoch 33/180\n",
      "28/28 [==============================] - 0s 4ms/step - loss: 0.1476 - accuracy: 0.9338 - val_loss: 0.1249 - val_accuracy: 0.9635\n",
      "Epoch 34/180\n",
      "28/28 [==============================] - 0s 3ms/step - loss: 0.1891 - accuracy: 0.9318 - val_loss: 0.2282 - val_accuracy: 0.9197\n",
      "Epoch 35/180\n",
      "28/28 [==============================] - 0s 3ms/step - loss: 0.2038 - accuracy: 0.9181 - val_loss: 0.1182 - val_accuracy: 0.9343\n",
      "Epoch 36/180\n",
      "28/28 [==============================] - 0s 3ms/step - loss: 0.1162 - accuracy: 0.9662 - val_loss: 0.1639 - val_accuracy: 0.9197\n",
      "Epoch 37/180\n",
      "28/28 [==============================] - 0s 3ms/step - loss: 0.0894 - accuracy: 0.9698 - val_loss: 0.1049 - val_accuracy: 0.9416\n",
      "Epoch 38/180\n",
      "28/28 [==============================] - 0s 3ms/step - loss: 0.0984 - accuracy: 0.9824 - val_loss: 0.1353 - val_accuracy: 0.9635\n",
      "Epoch 39/180\n",
      "28/28 [==============================] - 0s 3ms/step - loss: 0.1292 - accuracy: 0.9573 - val_loss: 0.1240 - val_accuracy: 0.9781\n",
      "Epoch 40/180\n",
      "28/28 [==============================] - 0s 3ms/step - loss: 0.0876 - accuracy: 0.9606 - val_loss: 0.1331 - val_accuracy: 0.9343\n",
      "Epoch 41/180\n",
      "28/28 [==============================] - 0s 3ms/step - loss: 0.0973 - accuracy: 0.9558 - val_loss: 0.1198 - val_accuracy: 0.9343\n",
      "Epoch 42/180\n",
      "28/28 [==============================] - 0s 3ms/step - loss: 0.0947 - accuracy: 0.9533 - val_loss: 0.1065 - val_accuracy: 0.9343\n",
      "Epoch 43/180\n",
      "28/28 [==============================] - 0s 3ms/step - loss: 0.0865 - accuracy: 0.9729 - val_loss: 0.1279 - val_accuracy: 0.9270\n",
      "Epoch 44/180\n",
      "28/28 [==============================] - 0s 2ms/step - loss: 0.1039 - accuracy: 0.9478 - val_loss: 0.1982 - val_accuracy: 0.9124\n",
      "Epoch 45/180\n",
      "28/28 [==============================] - 0s 3ms/step - loss: 0.0825 - accuracy: 0.9745 - val_loss: 0.0950 - val_accuracy: 0.9708\n",
      "Epoch 46/180\n",
      "28/28 [==============================] - 0s 3ms/step - loss: 0.0890 - accuracy: 0.9733 - val_loss: 0.1631 - val_accuracy: 0.9197\n",
      "Epoch 47/180\n",
      "28/28 [==============================] - 0s 3ms/step - loss: 0.1020 - accuracy: 0.9471 - val_loss: 0.0982 - val_accuracy: 0.9708\n",
      "Epoch 48/180\n",
      "28/28 [==============================] - 0s 3ms/step - loss: 0.0698 - accuracy: 0.9666 - val_loss: 0.1331 - val_accuracy: 0.9270\n",
      "Epoch 49/180\n",
      "28/28 [==============================] - 0s 3ms/step - loss: 0.1172 - accuracy: 0.9491 - val_loss: 0.1137 - val_accuracy: 0.9343\n",
      "Epoch 50/180\n",
      "28/28 [==============================] - 0s 3ms/step - loss: 0.0904 - accuracy: 0.9526 - val_loss: 0.0852 - val_accuracy: 0.9635\n",
      "Epoch 51/180\n",
      "28/28 [==============================] - 0s 3ms/step - loss: 0.0996 - accuracy: 0.9722 - val_loss: 0.0951 - val_accuracy: 0.9416\n",
      "Epoch 52/180\n",
      "28/28 [==============================] - 0s 2ms/step - loss: 0.0763 - accuracy: 0.9676 - val_loss: 0.0872 - val_accuracy: 0.9781\n",
      "Epoch 53/180\n",
      "28/28 [==============================] - 0s 3ms/step - loss: 0.0778 - accuracy: 0.9651 - val_loss: 0.1951 - val_accuracy: 0.9124\n",
      "Epoch 54/180\n",
      "28/28 [==============================] - 0s 3ms/step - loss: 0.2382 - accuracy: 0.9236 - val_loss: 0.3210 - val_accuracy: 0.9124\n",
      "Epoch 55/180\n",
      "28/28 [==============================] - 0s 3ms/step - loss: 0.2864 - accuracy: 0.8941 - val_loss: 0.0805 - val_accuracy: 0.9635\n",
      "Epoch 56/180\n",
      "28/28 [==============================] - 0s 3ms/step - loss: 0.0546 - accuracy: 0.9851 - val_loss: 0.0656 - val_accuracy: 0.9781\n",
      "Epoch 57/180\n",
      "28/28 [==============================] - 0s 3ms/step - loss: 0.0619 - accuracy: 0.9771 - val_loss: 0.0882 - val_accuracy: 0.9562\n",
      "Epoch 58/180\n",
      "28/28 [==============================] - 0s 3ms/step - loss: 0.0872 - accuracy: 0.9625 - val_loss: 0.0855 - val_accuracy: 0.9562\n"
     ]
    },
    {
     "name": "stdout",
     "output_type": "stream",
     "text": [
      "Epoch 59/180\n",
      "28/28 [==============================] - 0s 3ms/step - loss: 0.0697 - accuracy: 0.9755 - val_loss: 0.2263 - val_accuracy: 0.9051\n",
      "Epoch 60/180\n",
      "28/28 [==============================] - 0s 3ms/step - loss: 0.0791 - accuracy: 0.9603 - val_loss: 0.0668 - val_accuracy: 0.9635\n",
      "Epoch 61/180\n",
      "28/28 [==============================] - 0s 3ms/step - loss: 0.1457 - accuracy: 0.9523 - val_loss: 0.0846 - val_accuracy: 0.9635\n",
      "Epoch 62/180\n",
      "28/28 [==============================] - 0s 3ms/step - loss: 0.3983 - accuracy: 0.9114 - val_loss: 0.1016 - val_accuracy: 0.9416\n",
      "Epoch 63/180\n",
      "28/28 [==============================] - 0s 3ms/step - loss: 0.1888 - accuracy: 0.9309 - val_loss: 0.0707 - val_accuracy: 0.9635\n",
      "Epoch 64/180\n",
      "28/28 [==============================] - 0s 3ms/step - loss: 0.1041 - accuracy: 0.9550 - val_loss: 0.0573 - val_accuracy: 0.9781\n",
      "Epoch 65/180\n",
      "28/28 [==============================] - 0s 3ms/step - loss: 0.0582 - accuracy: 0.9778 - val_loss: 0.3753 - val_accuracy: 0.8613\n",
      "Epoch 66/180\n",
      "28/28 [==============================] - 0s 3ms/step - loss: 0.2124 - accuracy: 0.9103 - val_loss: 0.1206 - val_accuracy: 0.9416\n",
      "Epoch 67/180\n",
      "28/28 [==============================] - 0s 3ms/step - loss: 0.1341 - accuracy: 0.9520 - val_loss: 0.0901 - val_accuracy: 0.9635\n",
      "Epoch 68/180\n",
      "28/28 [==============================] - 0s 3ms/step - loss: 0.1102 - accuracy: 0.9556 - val_loss: 0.2979 - val_accuracy: 0.8832\n",
      "Epoch 69/180\n",
      "28/28 [==============================] - 0s 3ms/step - loss: 0.1245 - accuracy: 0.9384 - val_loss: 0.0774 - val_accuracy: 0.9635\n",
      "Epoch 70/180\n",
      "28/28 [==============================] - 0s 3ms/step - loss: 0.2564 - accuracy: 0.9191 - val_loss: 0.4258 - val_accuracy: 0.9124\n",
      "Epoch 71/180\n",
      "28/28 [==============================] - 0s 3ms/step - loss: 0.2740 - accuracy: 0.9290 - val_loss: 0.1198 - val_accuracy: 0.9489\n",
      "Epoch 72/180\n",
      "28/28 [==============================] - 0s 3ms/step - loss: 0.1794 - accuracy: 0.9173 - val_loss: 0.1020 - val_accuracy: 0.9416\n",
      "Epoch 73/180\n",
      "28/28 [==============================] - 0s 3ms/step - loss: 0.1035 - accuracy: 0.9634 - val_loss: 0.0484 - val_accuracy: 0.9781\n",
      "Epoch 74/180\n",
      "28/28 [==============================] - 0s 3ms/step - loss: 0.0338 - accuracy: 0.9917 - val_loss: 0.0625 - val_accuracy: 0.9635\n",
      "Epoch 75/180\n",
      "28/28 [==============================] - 0s 3ms/step - loss: 0.0600 - accuracy: 0.9671 - val_loss: 0.2717 - val_accuracy: 0.8832\n",
      "Epoch 76/180\n",
      "28/28 [==============================] - 0s 2ms/step - loss: 0.1537 - accuracy: 0.9503 - val_loss: 0.0377 - val_accuracy: 0.9927\n",
      "Epoch 77/180\n",
      "28/28 [==============================] - 0s 3ms/step - loss: 0.0787 - accuracy: 0.9627 - val_loss: 0.2815 - val_accuracy: 0.8832\n",
      "Epoch 78/180\n",
      "28/28 [==============================] - 0s 3ms/step - loss: 0.3048 - accuracy: 0.9111 - val_loss: 0.1920 - val_accuracy: 0.9416\n",
      "Epoch 79/180\n",
      "28/28 [==============================] - 0s 3ms/step - loss: 0.1619 - accuracy: 0.9389 - val_loss: 0.0385 - val_accuracy: 0.9927\n",
      "Epoch 80/180\n",
      "28/28 [==============================] - 0s 3ms/step - loss: 0.1418 - accuracy: 0.9483 - val_loss: 0.0401 - val_accuracy: 0.9854\n",
      "Epoch 81/180\n",
      "28/28 [==============================] - 0s 3ms/step - loss: 0.0822 - accuracy: 0.9614 - val_loss: 0.0732 - val_accuracy: 0.9635\n",
      "Epoch 82/180\n",
      "28/28 [==============================] - 0s 3ms/step - loss: 0.0458 - accuracy: 0.9821 - val_loss: 0.0518 - val_accuracy: 0.9781\n",
      "Epoch 83/180\n",
      "28/28 [==============================] - 0s 3ms/step - loss: 0.0647 - accuracy: 0.9733 - val_loss: 0.0487 - val_accuracy: 0.9781\n",
      "Epoch 84/180\n",
      "28/28 [==============================] - 0s 3ms/step - loss: 0.0528 - accuracy: 0.9780 - val_loss: 0.0510 - val_accuracy: 0.9781\n",
      "Epoch 85/180\n",
      "28/28 [==============================] - 0s 3ms/step - loss: 0.0543 - accuracy: 0.9644 - val_loss: 0.0387 - val_accuracy: 0.9781\n",
      "Epoch 86/180\n",
      "28/28 [==============================] - 0s 3ms/step - loss: 0.0783 - accuracy: 0.9560 - val_loss: 0.0413 - val_accuracy: 0.9854\n",
      "Epoch 87/180\n",
      "28/28 [==============================] - 0s 3ms/step - loss: 0.0509 - accuracy: 0.9829 - val_loss: 0.0554 - val_accuracy: 0.9781\n",
      "Epoch 88/180\n",
      "28/28 [==============================] - 0s 3ms/step - loss: 0.0724 - accuracy: 0.9667 - val_loss: 0.0619 - val_accuracy: 0.9708\n",
      "Epoch 89/180\n",
      "28/28 [==============================] - 0s 3ms/step - loss: 0.0434 - accuracy: 0.9763 - val_loss: 0.0439 - val_accuracy: 0.9708\n",
      "Epoch 90/180\n",
      "28/28 [==============================] - 0s 3ms/step - loss: 0.0256 - accuracy: 0.9922 - val_loss: 0.0844 - val_accuracy: 0.9635\n",
      "Epoch 91/180\n",
      "28/28 [==============================] - 0s 3ms/step - loss: 0.1101 - accuracy: 0.9566 - val_loss: 0.0397 - val_accuracy: 0.9927\n",
      "Epoch 92/180\n",
      "28/28 [==============================] - 0s 3ms/step - loss: 0.0281 - accuracy: 0.9930 - val_loss: 0.0461 - val_accuracy: 0.9781\n",
      "Epoch 93/180\n",
      "28/28 [==============================] - 0s 3ms/step - loss: 0.0408 - accuracy: 0.9870 - val_loss: 0.1354 - val_accuracy: 0.9343\n",
      "Epoch 94/180\n",
      "28/28 [==============================] - 0s 3ms/step - loss: 0.0907 - accuracy: 0.9514 - val_loss: 0.0367 - val_accuracy: 0.9927\n",
      "Epoch 95/180\n",
      "28/28 [==============================] - 0s 4ms/step - loss: 0.0506 - accuracy: 0.9736 - val_loss: 0.0657 - val_accuracy: 0.9635\n",
      "Epoch 96/180\n",
      "28/28 [==============================] - 0s 6ms/step - loss: 0.0564 - accuracy: 0.9701 - val_loss: 0.0548 - val_accuracy: 0.9781\n",
      "Epoch 97/180\n",
      "28/28 [==============================] - 0s 4ms/step - loss: 0.0993 - accuracy: 0.9612 - val_loss: 0.0445 - val_accuracy: 0.9708\n",
      "Epoch 98/180\n",
      "28/28 [==============================] - 0s 3ms/step - loss: 0.1084 - accuracy: 0.9659 - val_loss: 0.0389 - val_accuracy: 0.9854\n",
      "Epoch 99/180\n",
      "28/28 [==============================] - 0s 3ms/step - loss: 0.0367 - accuracy: 0.9873 - val_loss: 0.0348 - val_accuracy: 0.9854\n",
      "Epoch 100/180\n",
      "28/28 [==============================] - 0s 4ms/step - loss: 0.0951 - accuracy: 0.9695 - val_loss: 0.0455 - val_accuracy: 0.9708\n",
      "Epoch 101/180\n",
      "28/28 [==============================] - 0s 4ms/step - loss: 0.0793 - accuracy: 0.9645 - val_loss: 0.0429 - val_accuracy: 0.9708\n",
      "Epoch 102/180\n",
      "28/28 [==============================] - 0s 4ms/step - loss: 0.0532 - accuracy: 0.9863 - val_loss: 0.0845 - val_accuracy: 0.9562\n",
      "Epoch 103/180\n",
      "28/28 [==============================] - 0s 4ms/step - loss: 0.1660 - accuracy: 0.9331 - val_loss: 0.2137 - val_accuracy: 0.9197\n",
      "Epoch 104/180\n",
      "28/28 [==============================] - 0s 4ms/step - loss: 0.1695 - accuracy: 0.9377 - val_loss: 0.0904 - val_accuracy: 0.9562\n",
      "Epoch 105/180\n",
      "28/28 [==============================] - 0s 3ms/step - loss: 0.1032 - accuracy: 0.9666 - val_loss: 0.0330 - val_accuracy: 0.9854\n",
      "Epoch 106/180\n",
      "28/28 [==============================] - 0s 3ms/step - loss: 0.1128 - accuracy: 0.9640 - val_loss: 0.0602 - val_accuracy: 0.9708\n",
      "Epoch 107/180\n",
      "28/28 [==============================] - ETA: 0s - loss: 0.0051 - accuracy: 1.00 - 0s 3ms/step - loss: 0.0290 - accuracy: 0.9883 - val_loss: 0.0883 - val_accuracy: 0.9635\n",
      "Epoch 108/180\n",
      "28/28 [==============================] - 0s 3ms/step - loss: 0.0537 - accuracy: 0.9667 - val_loss: 0.0376 - val_accuracy: 0.9854\n",
      "Epoch 109/180\n",
      "28/28 [==============================] - 0s 3ms/step - loss: 0.0403 - accuracy: 0.9795 - val_loss: 0.0342 - val_accuracy: 0.9854\n",
      "Epoch 110/180\n",
      "28/28 [==============================] - 0s 4ms/step - loss: 0.0527 - accuracy: 0.9714 - val_loss: 0.2165 - val_accuracy: 0.9270\n",
      "Epoch 111/180\n",
      "28/28 [==============================] - 0s 4ms/step - loss: 0.1115 - accuracy: 0.9577 - val_loss: 0.0507 - val_accuracy: 0.9781\n",
      "Epoch 112/180\n",
      "28/28 [==============================] - 0s 4ms/step - loss: 0.0544 - accuracy: 0.9759 - val_loss: 0.0628 - val_accuracy: 0.9708\n",
      "Epoch 113/180\n",
      "28/28 [==============================] - 0s 4ms/step - loss: 0.0568 - accuracy: 0.9788 - val_loss: 0.0441 - val_accuracy: 0.9854\n",
      "Epoch 114/180\n",
      "28/28 [==============================] - 0s 4ms/step - loss: 0.1385 - accuracy: 0.9525 - val_loss: 0.0912 - val_accuracy: 0.9416\n",
      "Epoch 115/180\n",
      "28/28 [==============================] - 0s 3ms/step - loss: 0.0904 - accuracy: 0.9765 - val_loss: 0.0863 - val_accuracy: 0.9635\n",
      "Epoch 116/180\n"
     ]
    },
    {
     "name": "stdout",
     "output_type": "stream",
     "text": [
      "28/28 [==============================] - 0s 3ms/step - loss: 0.2792 - accuracy: 0.9515 - val_loss: 0.0993 - val_accuracy: 0.9416\n",
      "Epoch 117/180\n",
      "28/28 [==============================] - 0s 3ms/step - loss: 0.0432 - accuracy: 0.9849 - val_loss: 0.0310 - val_accuracy: 0.9927\n",
      "Epoch 118/180\n",
      "28/28 [==============================] - 0s 3ms/step - loss: 0.0547 - accuracy: 0.9896 - val_loss: 0.0442 - val_accuracy: 0.9781\n",
      "Epoch 119/180\n",
      "28/28 [==============================] - 0s 3ms/step - loss: 0.0643 - accuracy: 0.9717 - val_loss: 0.2516 - val_accuracy: 0.9197\n",
      "Epoch 120/180\n",
      "28/28 [==============================] - 0s 3ms/step - loss: 0.1115 - accuracy: 0.9655 - val_loss: 0.2316 - val_accuracy: 0.9197\n",
      "Epoch 121/180\n",
      "28/28 [==============================] - 0s 5ms/step - loss: 0.1543 - accuracy: 0.9549 - val_loss: 0.0404 - val_accuracy: 0.9781\n",
      "Epoch 122/180\n",
      "28/28 [==============================] - 0s 4ms/step - loss: 0.0426 - accuracy: 0.9846 - val_loss: 0.0414 - val_accuracy: 0.9708\n",
      "Epoch 123/180\n",
      "28/28 [==============================] - 0s 6ms/step - loss: 0.0595 - accuracy: 0.9802 - val_loss: 0.0486 - val_accuracy: 0.9708\n",
      "Epoch 124/180\n",
      "28/28 [==============================] - 0s 6ms/step - loss: 0.2816 - accuracy: 0.9458 - val_loss: 0.0390 - val_accuracy: 0.9781\n",
      "Epoch 125/180\n",
      "28/28 [==============================] - 0s 6ms/step - loss: 0.1126 - accuracy: 0.9551 - val_loss: 0.0570 - val_accuracy: 0.9781\n",
      "Epoch 126/180\n",
      "28/28 [==============================] - 0s 6ms/step - loss: 0.1368 - accuracy: 0.9489 - val_loss: 0.0588 - val_accuracy: 0.9781\n",
      "Epoch 127/180\n",
      "28/28 [==============================] - 0s 4ms/step - loss: 0.0638 - accuracy: 0.9724 - val_loss: 0.1275 - val_accuracy: 0.9489\n",
      "Epoch 128/180\n",
      "28/28 [==============================] - 0s 4ms/step - loss: 0.1820 - accuracy: 0.9214 - val_loss: 0.1060 - val_accuracy: 0.9489\n",
      "Epoch 129/180\n",
      "28/28 [==============================] - 0s 3ms/step - loss: 0.0816 - accuracy: 0.9641 - val_loss: 0.2068 - val_accuracy: 0.9270\n",
      "Epoch 130/180\n",
      "28/28 [==============================] - 0s 4ms/step - loss: 0.1892 - accuracy: 0.9554 - val_loss: 0.0559 - val_accuracy: 0.9708\n",
      "Epoch 131/180\n",
      "28/28 [==============================] - 0s 3ms/step - loss: 0.0447 - accuracy: 0.9821 - val_loss: 0.0575 - val_accuracy: 0.9708\n",
      "Epoch 132/180\n",
      "28/28 [==============================] - 0s 3ms/step - loss: 0.0433 - accuracy: 0.9736 - val_loss: 0.0303 - val_accuracy: 0.9927\n",
      "Epoch 133/180\n",
      "28/28 [==============================] - 0s 3ms/step - loss: 0.0206 - accuracy: 0.9945 - val_loss: 0.0295 - val_accuracy: 0.9927\n",
      "Epoch 134/180\n",
      "28/28 [==============================] - 0s 3ms/step - loss: 0.0470 - accuracy: 0.9805 - val_loss: 0.0290 - val_accuracy: 0.9927\n",
      "Epoch 135/180\n",
      "28/28 [==============================] - 0s 3ms/step - loss: 0.0401 - accuracy: 0.9791 - val_loss: 0.0324 - val_accuracy: 0.9781\n",
      "Epoch 136/180\n",
      "28/28 [==============================] - 0s 3ms/step - loss: 0.0199 - accuracy: 0.9909 - val_loss: 0.0410 - val_accuracy: 0.9708\n",
      "Epoch 137/180\n",
      "28/28 [==============================] - 0s 4ms/step - loss: 0.0519 - accuracy: 0.9819 - val_loss: 0.0793 - val_accuracy: 0.9708\n",
      "Epoch 138/180\n",
      "28/28 [==============================] - 0s 5ms/step - loss: 0.1202 - accuracy: 0.9589 - val_loss: 0.1436 - val_accuracy: 0.9270\n",
      "Epoch 139/180\n",
      "28/28 [==============================] - 0s 6ms/step - loss: 0.1091 - accuracy: 0.9510 - val_loss: 0.3657 - val_accuracy: 0.9124\n",
      "Epoch 140/180\n",
      "28/28 [==============================] - 0s 4ms/step - loss: 0.2993 - accuracy: 0.9594 - val_loss: 0.0481 - val_accuracy: 0.9781\n",
      "Epoch 141/180\n",
      "28/28 [==============================] - 0s 3ms/step - loss: 0.1278 - accuracy: 0.9509 - val_loss: 0.0557 - val_accuracy: 0.9708\n",
      "Epoch 142/180\n",
      "28/28 [==============================] - 0s 5ms/step - loss: 0.2057 - accuracy: 0.9428 - val_loss: 0.0454 - val_accuracy: 0.9708\n",
      "Epoch 143/180\n",
      "28/28 [==============================] - 0s 4ms/step - loss: 0.0168 - accuracy: 0.9944 - val_loss: 0.0330 - val_accuracy: 0.9854\n",
      "Epoch 144/180\n",
      "28/28 [==============================] - 0s 4ms/step - loss: 0.0621 - accuracy: 0.9737 - val_loss: 0.0363 - val_accuracy: 0.9781\n",
      "Epoch 145/180\n",
      "28/28 [==============================] - 0s 4ms/step - loss: 0.0539 - accuracy: 0.9754 - val_loss: 0.0352 - val_accuracy: 0.9708\n",
      "Epoch 146/180\n",
      "28/28 [==============================] - 0s 5ms/step - loss: 0.0476 - accuracy: 0.9850 - val_loss: 0.1146 - val_accuracy: 0.9416\n",
      "Epoch 147/180\n",
      "28/28 [==============================] - 0s 6ms/step - loss: 0.1510 - accuracy: 0.9631 - val_loss: 0.0400 - val_accuracy: 0.9635\n",
      "Epoch 148/180\n",
      "28/28 [==============================] - 0s 3ms/step - loss: 0.2190 - accuracy: 0.9505 - val_loss: 0.0630 - val_accuracy: 0.9708\n",
      "Epoch 149/180\n",
      "28/28 [==============================] - 0s 3ms/step - loss: 0.0171 - accuracy: 0.9876 - val_loss: 0.0575 - val_accuracy: 0.9708\n",
      "Epoch 150/180\n",
      "28/28 [==============================] - 0s 3ms/step - loss: 0.0429 - accuracy: 0.9724 - val_loss: 0.5330 - val_accuracy: 0.9197\n",
      "Epoch 151/180\n",
      "28/28 [==============================] - 0s 3ms/step - loss: 0.4519 - accuracy: 0.9119 - val_loss: 0.0466 - val_accuracy: 0.9781\n",
      "Epoch 152/180\n",
      "28/28 [==============================] - 0s 3ms/step - loss: 0.0512 - accuracy: 0.9744 - val_loss: 0.0701 - val_accuracy: 0.9708\n",
      "Epoch 153/180\n",
      "28/28 [==============================] - 0s 4ms/step - loss: 0.1257 - accuracy: 0.9532 - val_loss: 0.0311 - val_accuracy: 0.9854\n",
      "Epoch 154/180\n",
      "28/28 [==============================] - 0s 4ms/step - loss: 0.0184 - accuracy: 0.9907 - val_loss: 0.0564 - val_accuracy: 0.9708\n",
      "Epoch 155/180\n",
      "28/28 [==============================] - 0s 3ms/step - loss: 0.0365 - accuracy: 0.9736 - val_loss: 0.0350 - val_accuracy: 0.9781\n",
      "Epoch 156/180\n",
      "28/28 [==============================] - 0s 3ms/step - loss: 0.0669 - accuracy: 0.9757 - val_loss: 0.0769 - val_accuracy: 0.9489\n",
      "Epoch 157/180\n",
      "28/28 [==============================] - 0s 4ms/step - loss: 0.1817 - accuracy: 0.9558 - val_loss: 0.0466 - val_accuracy: 0.9708\n",
      "Epoch 158/180\n",
      "28/28 [==============================] - 0s 3ms/step - loss: 0.0212 - accuracy: 0.9939 - val_loss: 0.0360 - val_accuracy: 0.9708\n",
      "Epoch 159/180\n",
      "28/28 [==============================] - 0s 3ms/step - loss: 0.0315 - accuracy: 0.9855 - val_loss: 0.0576 - val_accuracy: 0.9708\n",
      "Epoch 160/180\n",
      "28/28 [==============================] - 0s 3ms/step - loss: 0.1331 - accuracy: 0.9509 - val_loss: 0.7744 - val_accuracy: 0.8248\n",
      "Epoch 161/180\n",
      "28/28 [==============================] - 0s 3ms/step - loss: 0.1658 - accuracy: 0.9584 - val_loss: 0.0774 - val_accuracy: 0.9708\n",
      "Epoch 162/180\n",
      "28/28 [==============================] - 0s 4ms/step - loss: 0.0670 - accuracy: 0.9850 - val_loss: 0.0454 - val_accuracy: 0.9781\n",
      "Epoch 163/180\n",
      "28/28 [==============================] - 0s 4ms/step - loss: 0.0554 - accuracy: 0.9743 - val_loss: 0.0376 - val_accuracy: 0.9781\n",
      "Epoch 164/180\n",
      "28/28 [==============================] - 0s 4ms/step - loss: 0.0422 - accuracy: 0.9777 - val_loss: 0.0412 - val_accuracy: 0.9781\n",
      "Epoch 165/180\n",
      "28/28 [==============================] - 0s 4ms/step - loss: 0.0492 - accuracy: 0.9731 - val_loss: 0.0480 - val_accuracy: 0.9854\n",
      "Epoch 166/180\n",
      "28/28 [==============================] - 0s 4ms/step - loss: 0.0612 - accuracy: 0.9842 - val_loss: 0.0492 - val_accuracy: 0.9781\n",
      "Epoch 167/180\n",
      "28/28 [==============================] - 0s 3ms/step - loss: 0.0428 - accuracy: 0.9795 - val_loss: 0.1544 - val_accuracy: 0.9489\n",
      "Epoch 168/180\n",
      "28/28 [==============================] - 0s 3ms/step - loss: 0.1722 - accuracy: 0.9522 - val_loss: 0.3462 - val_accuracy: 0.9051\n",
      "Epoch 169/180\n",
      "28/28 [==============================] - 0s 3ms/step - loss: 0.2838 - accuracy: 0.9371 - val_loss: 0.1113 - val_accuracy: 0.9635\n",
      "Epoch 170/180\n",
      "28/28 [==============================] - 0s 3ms/step - loss: 0.0778 - accuracy: 0.9713 - val_loss: 0.0854 - val_accuracy: 0.9635\n",
      "Epoch 171/180\n",
      "28/28 [==============================] - 0s 3ms/step - loss: 0.0217 - accuracy: 0.9943 - val_loss: 0.0418 - val_accuracy: 0.9708\n",
      "Epoch 172/180\n",
      "28/28 [==============================] - 0s 4ms/step - loss: 0.0562 - accuracy: 0.9768 - val_loss: 0.0382 - val_accuracy: 0.9854\n",
      "Epoch 173/180\n"
     ]
    },
    {
     "name": "stdout",
     "output_type": "stream",
     "text": [
      "28/28 [==============================] - 0s 3ms/step - loss: 0.0529 - accuracy: 0.9690 - val_loss: 0.0548 - val_accuracy: 0.9708\n",
      "Epoch 174/180\n",
      "28/28 [==============================] - 0s 3ms/step - loss: 0.0646 - accuracy: 0.9741 - val_loss: 0.1309 - val_accuracy: 0.9416\n",
      "Epoch 175/180\n",
      "28/28 [==============================] - 0s 4ms/step - loss: 0.1414 - accuracy: 0.9601 - val_loss: 0.0452 - val_accuracy: 0.9781\n",
      "Epoch 176/180\n",
      "28/28 [==============================] - 0s 4ms/step - loss: 0.0356 - accuracy: 0.9818 - val_loss: 0.0480 - val_accuracy: 0.9781\n",
      "Epoch 177/180\n",
      "28/28 [==============================] - 0s 3ms/step - loss: 0.0294 - accuracy: 0.9848 - val_loss: 0.0515 - val_accuracy: 0.9781\n",
      "Epoch 178/180\n",
      "28/28 [==============================] - 0s 4ms/step - loss: 0.0354 - accuracy: 0.9879 - val_loss: 0.6401 - val_accuracy: 0.9124\n",
      "Epoch 179/180\n",
      "28/28 [==============================] - 0s 4ms/step - loss: 0.1841 - accuracy: 0.9649 - val_loss: 0.1347 - val_accuracy: 0.9562\n",
      "Epoch 180/180\n",
      "28/28 [==============================] - 0s 4ms/step - loss: 0.0294 - accuracy: 0.9810 - val_loss: 0.1270 - val_accuracy: 0.9489\n"
     ]
    }
   ],
   "source": [
    "# Fit the model\n",
    "history=model.fit(X_train,y_train, validation_split=0.33, epochs=180, batch_size=10)"
   ]
  },
  {
   "cell_type": "code",
   "execution_count": 9,
   "metadata": {},
   "outputs": [
    {
     "name": "stdout",
     "output_type": "stream",
     "text": [
      "13/13 [==============================] - 0s 2ms/step - loss: 0.1288 - accuracy: 0.9492\n",
      "accuracy: 94.92%\n"
     ]
    }
   ],
   "source": [
    "# evaluate the model\n",
    "scores = model.evaluate(X_train, y_train)\n",
    "print(\"%s: %.2f%%\" % (model.metrics_names[1], scores[1]*100))"
   ]
  },
  {
   "cell_type": "code",
   "execution_count": 10,
   "metadata": {},
   "outputs": [
    {
     "name": "stdout",
     "output_type": "stream",
     "text": [
      "4/4 [==============================] - 0s 5ms/step - loss: 0.1463 - accuracy: 0.9712\n",
      "accuracy: 97.12%\n"
     ]
    }
   ],
   "source": [
    "# evaluate the model\n",
    "scores = model.evaluate(X_test, y_test)\n",
    "print(\"%s: %.2f%%\" % (model.metrics_names[1], scores[1]*100))"
   ]
  },
  {
   "cell_type": "code",
   "execution_count": 11,
   "metadata": {},
   "outputs": [
    {
     "data": {
      "text/plain": [
       "dict_keys(['loss', 'accuracy', 'val_loss', 'val_accuracy'])"
      ]
     },
     "execution_count": 11,
     "metadata": {},
     "output_type": "execute_result"
    }
   ],
   "source": [
    "# Visualize training history\n",
    "\n",
    "# list all data in history\n",
    "history.history.keys()"
   ]
  },
  {
   "cell_type": "code",
   "execution_count": 12,
   "metadata": {},
   "outputs": [],
   "source": [
    "\n",
    "model.compile(loss=\"categorical_crossentropy\",\n",
    "              optimizer='rmsprop', metrics=[\"accuracy\"])"
   ]
  },
  {
   "cell_type": "code",
   "execution_count": 13,
   "metadata": {},
   "outputs": [
    {
     "data": {
      "image/png": "[encoded data removed]",
      "text/plain": [
       "<Figure size 432x288 with 1 Axes>"
      ]
     },
     "metadata": {
      "needs_background": "light"
     },
     "output_type": "display_data"
    },
    {
     "data": {
      "image/png": "[encoded data removed]",
      "text/plain": [
       "<Figure size 432x288 with 1 Axes>"
      ]
     },
     "metadata": {
      "needs_background": "light"
     },
     "output_type": "display_data"
    }
   ],
   "source": [
    "# summarize history for accuracy\n",
    "plt.plot(history.history['accuracy'])\n",
    "plt.plot(history.history['val_accuracy'])\n",
    "plt.title('model accuracy')\n",
    "plt.ylabel('accuracy')\n",
    "plt.xlabel('epoch')\n",
    "plt.legend(['train', 'test'], loc='upper left')\n",
    "plt.show()\n",
    "# summarize history for loss\n",
    "plt.plot(history.history['loss'])\n",
    "plt.plot(history.history['val_loss'])\n",
    "plt.title('model loss')\n",
    "plt.ylabel('loss')\n",
    "plt.xlabel('epoch')\n",
    "plt.legend(['train', 'test'], loc='upper left')\n",
    "plt.show()"
   ]
  },
  {
   "cell_type": "markdown",
   "metadata": {},
   "source": [
    "# Conclusion:-We have predicted the result with 97% accuracy here epoch=180  "
   ]
  },
  {
   "cell_type": "code",
   "execution_count": null,
   "metadata": {},
   "outputs": [],
   "source": []
  }
 ],
 "metadata": {
  "kernelspec": {
   "display_name": "Python 3",
   "language": "python",
   "name": "python3"
  },
  "language_info": {
   "codemirror_mode": {
    "name": "ipython",
    "version": 3
   },
   "file_extension": ".py",
   "mimetype": "text/x-python",
   "name": "python",
   "nbconvert_exporter": "python",
   "pygments_lexer": "ipython3",
   "version": "3.8.5"
  },
  "varInspector": {
   "cols": {
    "lenName": 16,
    "lenType": 16,
    "lenVar": 40
   },
   "kernels_config": {
    "python": {
     "delete_cmd_postfix": "",
     "delete_cmd_prefix": "del ",
     "library": "var_list.py",
     "varRefreshCmd": "print(var_dic_list())"
    },
    "r": {
     "delete_cmd_postfix": ") ",
     "delete_cmd_prefix": "rm(",
     "library": "var_list.r",
     "varRefreshCmd": "cat(var_dic_list()) "
    }
   },
   "types_to_exclude": [
    "module",
    "function",
    "builtin_function_or_method",
    "instance",
    "_Feature"
   ],
   "window_display": false
  }
 },
 "nbformat": 4,
 "nbformat_minor": 4
}
